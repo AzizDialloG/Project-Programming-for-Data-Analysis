{
 "cells": [
  {
   "cell_type": "markdown",
   "metadata": {},
   "source": [
    "# Programming for Data Analysis"
   ]
  },
  {
   "cell_type": "markdown",
   "metadata": {},
   "source": [
    "## Project Objective:\n",
    "\n",
    "In this project we have to create a dataset by simulating a real world phenomenon of our choice. And have to model and synthesise such data using Python package of numpy.random\n"
   ]
  },
  {
   "cell_type": "markdown",
   "metadata": {},
   "source": [
    "## Project Scope:\n",
    "\n",
    "1. Dataset should be at least one-hundred data points across at least four different variables.\n",
    "\n",
    "2. Investigate the types of variables involved, their likely distributions, and their relationships with each other.\n",
    "\n",
    "3. Synthesise/simulate a data set as closely matching their properties as possible.\n",
    "\n",
    "4. Detail your research and implement the simulation in a Jupyter notebook."
   ]
  },
  {
   "cell_type": "markdown",
   "metadata": {},
   "source": [
    "### Let's get started !!!"
   ]
  },
  {
   "cell_type": "markdown",
   "metadata": {},
   "source": [
    "## 1. Importing the required libraries"
   ]
  },
  {
   "cell_type": "code",
   "execution_count": 1,
   "metadata": {},
   "outputs": [],
   "source": [
    "# Importing required libraries.\n",
    "import pandas as pd\n",
    "import numpy as np\n",
    "import seaborn as sns #visualisation\n",
    "from matplotlib import pyplot as plt #visualisation\n",
    "import warnings\n",
    "warnings.filterwarnings('ignore')"
   ]
  },
  {
   "cell_type": "markdown",
   "metadata": {},
   "source": [
    "## 2. Selection of Dataset and Attributes\n",
    "\n",
    "For this project i will create a song track dataset which can be used for real problems like music recommendation, rating prediction of a song, top 10 songs of the year. The columns of the data set will be 6 and the total rows will be 200. The column attributes are as follows:\n",
    "\n",
    "Song_id = int\n",
    "&nbsp; #Unique ID for every song in the dataset, in total there are 200 songs in the dataset\n",
    "\n",
    "Listen_count = int \n",
    "&nbsp; #Number of times a song was listened\n",
    "\n",
    "Year = int \n",
    "[2015, 2020]\n",
    "&nbsp; #Release year of the song track\n",
    "\n",
    "Genre = str\n",
    "&nbsp; [pop, rock, jazz, hiphop, disco, folk]\n",
    "\n",
    "Downloads = int\n",
    "&nbsp; #Number of downloads of each song\n",
    "\n",
    "Rating = float\n",
    "&nbsp; #Average rating of each song\n"
   ]
  },
  {
   "cell_type": "markdown",
   "metadata": {},
   "source": [
    "## 3. Generating Dataset using Numpy Random Module\n",
    "\n",
    "We will use normal distribution for listen counts and number of downloads and for ratings we'll use unifrom distribution from 1 to 5. The year and genre will be randomly selected using randint and random choice."
   ]
  },
  {
   "cell_type": "code",
   "execution_count": 2,
   "metadata": {},
   "outputs": [],
   "source": [
    "# total number of rows:\n",
    "rows = 200\n",
    "\n",
    "# list arrays for dataset column attributes:\n",
    "song_id = []\n",
    "listen_counts = []\n",
    "year = []\n",
    "genre = []\n",
    "no_downloads = []\n",
    "rating = []\n",
    "\n",
    "np.random.seed(22)\n",
    "\n",
    "for i in range(rows):\n",
    "    song_id.append(i+1)\n",
    "    \n",
    "    genre.append(np.random.choice([\"pop\", \"rock\", \"jazz\", \"hiphop\", \"disco\", \"folk\"]))\n",
    "    \n",
    "    if genre[i] in [\"rock\", \"jazz\", \"disco\"]:\n",
    "        listen_counts.append(int(np.random.normal(loc=2500, scale=625)))\n",
    "        \n",
    "        no_downloads.append(int(np.random.normal(loc=5000, scale=1250)))\n",
    "    \n",
    "    else:\n",
    "        listen_counts.append(int(np.random.normal(loc=1250, scale=312.5)))\n",
    "        \n",
    "        no_downloads.append(int(np.random.normal(loc=2500, scale=625))) \n",
    "    \n",
    "    year.append(np.random.randint(low = 2015, high= 2020))\n",
    "    \n",
    "    if year[i] in [2015, 2016, 2017]:\n",
    "        rating.append(round(np.random.uniform(3.1,5), 1))\n",
    "    else:\n",
    "        rating.append(round(np.random.uniform(1,3), 1))"
   ]
  },
  {
   "cell_type": "markdown",
   "metadata": {},
   "source": [
    "## 4. Creating DataFrame For Better view of Dataset"
   ]
  },
  {
   "cell_type": "code",
   "execution_count": 3,
   "metadata": {},
   "outputs": [],
   "source": [
    "# column name list\n",
    "col_names = ['Song_Id', 'Genre', 'Listen_Counts', 'Year', 'No_of_Downloads', 'Ratings']\n",
    "\n",
    "# create an empty dataframe\n",
    "# with columns\n",
    "df = pd.DataFrame(columns=col_names)\n",
    "\n",
    "try:\n",
    "    df['Song_Id']         = pd.Series(song_id)\n",
    "    df['Genre']           = pd.Series(genre)\n",
    "    df['Listen_Counts']   = pd.Series(listen_counts)\n",
    "    df['Year']            = pd.Series(year)\n",
    "    df['No_of_Downloads'] = pd.Series(no_downloads)\n",
    "    df['Ratings']         = pd.Series(rating)\n",
    "\n",
    "except Exception as e:\n",
    "    print(\"Error:\",e)"
   ]
  },
  {
   "cell_type": "markdown",
   "metadata": {},
   "source": [
    "## 5. Displaying Dataset:"
   ]
  },
  {
   "cell_type": "code",
   "execution_count": 4,
   "metadata": {},
   "outputs": [
    {
     "data": {
      "text/html": [
       "<div>\n",
       "<style scoped>\n",
       "    .dataframe tbody tr th:only-of-type {\n",
       "        vertical-align: middle;\n",
       "    }\n",
       "\n",
       "    .dataframe tbody tr th {\n",
       "        vertical-align: top;\n",
       "    }\n",
       "\n",
       "    .dataframe thead th {\n",
       "        text-align: right;\n",
       "    }\n",
       "</style>\n",
       "<table border=\"1\" class=\"dataframe\">\n",
       "  <thead>\n",
       "    <tr style=\"text-align: right;\">\n",
       "      <th></th>\n",
       "      <th>Song_Id</th>\n",
       "      <th>Genre</th>\n",
       "      <th>Listen_Counts</th>\n",
       "      <th>Year</th>\n",
       "      <th>No_of_Downloads</th>\n",
       "      <th>Ratings</th>\n",
       "    </tr>\n",
       "  </thead>\n",
       "  <tbody>\n",
       "    <tr>\n",
       "      <th>0</th>\n",
       "      <td>1</td>\n",
       "      <td>folk</td>\n",
       "      <td>1578</td>\n",
       "      <td>2018</td>\n",
       "      <td>3076</td>\n",
       "      <td>1.3</td>\n",
       "    </tr>\n",
       "    <tr>\n",
       "      <th>1</th>\n",
       "      <td>2</td>\n",
       "      <td>disco</td>\n",
       "      <td>3074</td>\n",
       "      <td>2015</td>\n",
       "      <td>3620</td>\n",
       "      <td>4.6</td>\n",
       "    </tr>\n",
       "    <tr>\n",
       "      <th>2</th>\n",
       "      <td>3</td>\n",
       "      <td>jazz</td>\n",
       "      <td>3320</td>\n",
       "      <td>2018</td>\n",
       "      <td>5320</td>\n",
       "      <td>1.9</td>\n",
       "    </tr>\n",
       "    <tr>\n",
       "      <th>3</th>\n",
       "      <td>4</td>\n",
       "      <td>folk</td>\n",
       "      <td>919</td>\n",
       "      <td>2018</td>\n",
       "      <td>3159</td>\n",
       "      <td>2.4</td>\n",
       "    </tr>\n",
       "    <tr>\n",
       "      <th>4</th>\n",
       "      <td>5</td>\n",
       "      <td>jazz</td>\n",
       "      <td>1740</td>\n",
       "      <td>2019</td>\n",
       "      <td>7414</td>\n",
       "      <td>2.4</td>\n",
       "    </tr>\n",
       "  </tbody>\n",
       "</table>\n",
       "</div>"
      ],
      "text/plain": [
       "   Song_Id  Genre  Listen_Counts  Year  No_of_Downloads  Ratings\n",
       "0        1   folk           1578  2018             3076      1.3\n",
       "1        2  disco           3074  2015             3620      4.6\n",
       "2        3   jazz           3320  2018             5320      1.9\n",
       "3        4   folk            919  2018             3159      2.4\n",
       "4        5   jazz           1740  2019             7414      2.4"
      ]
     },
     "execution_count": 4,
     "metadata": {},
     "output_type": "execute_result"
    }
   ],
   "source": [
    "# show the dataframe starting 5 rows\n",
    "df.head(5)"
   ]
  },
  {
   "cell_type": "code",
   "execution_count": 5,
   "metadata": {},
   "outputs": [
    {
     "data": {
      "text/html": [
       "<div>\n",
       "<style scoped>\n",
       "    .dataframe tbody tr th:only-of-type {\n",
       "        vertical-align: middle;\n",
       "    }\n",
       "\n",
       "    .dataframe tbody tr th {\n",
       "        vertical-align: top;\n",
       "    }\n",
       "\n",
       "    .dataframe thead th {\n",
       "        text-align: right;\n",
       "    }\n",
       "</style>\n",
       "<table border=\"1\" class=\"dataframe\">\n",
       "  <thead>\n",
       "    <tr style=\"text-align: right;\">\n",
       "      <th></th>\n",
       "      <th>Song_Id</th>\n",
       "      <th>Genre</th>\n",
       "      <th>Listen_Counts</th>\n",
       "      <th>Year</th>\n",
       "      <th>No_of_Downloads</th>\n",
       "      <th>Ratings</th>\n",
       "    </tr>\n",
       "  </thead>\n",
       "  <tbody>\n",
       "    <tr>\n",
       "      <th>195</th>\n",
       "      <td>196</td>\n",
       "      <td>hiphop</td>\n",
       "      <td>1735</td>\n",
       "      <td>2019</td>\n",
       "      <td>1456</td>\n",
       "      <td>2.8</td>\n",
       "    </tr>\n",
       "    <tr>\n",
       "      <th>196</th>\n",
       "      <td>197</td>\n",
       "      <td>jazz</td>\n",
       "      <td>1863</td>\n",
       "      <td>2016</td>\n",
       "      <td>6877</td>\n",
       "      <td>4.9</td>\n",
       "    </tr>\n",
       "    <tr>\n",
       "      <th>197</th>\n",
       "      <td>198</td>\n",
       "      <td>pop</td>\n",
       "      <td>1402</td>\n",
       "      <td>2015</td>\n",
       "      <td>2653</td>\n",
       "      <td>3.7</td>\n",
       "    </tr>\n",
       "    <tr>\n",
       "      <th>198</th>\n",
       "      <td>199</td>\n",
       "      <td>jazz</td>\n",
       "      <td>2099</td>\n",
       "      <td>2015</td>\n",
       "      <td>6095</td>\n",
       "      <td>4.6</td>\n",
       "    </tr>\n",
       "    <tr>\n",
       "      <th>199</th>\n",
       "      <td>200</td>\n",
       "      <td>pop</td>\n",
       "      <td>1455</td>\n",
       "      <td>2016</td>\n",
       "      <td>2747</td>\n",
       "      <td>3.9</td>\n",
       "    </tr>\n",
       "  </tbody>\n",
       "</table>\n",
       "</div>"
      ],
      "text/plain": [
       "     Song_Id   Genre  Listen_Counts  Year  No_of_Downloads  Ratings\n",
       "195      196  hiphop           1735  2019             1456      2.8\n",
       "196      197    jazz           1863  2016             6877      4.9\n",
       "197      198     pop           1402  2015             2653      3.7\n",
       "198      199    jazz           2099  2015             6095      4.6\n",
       "199      200     pop           1455  2016             2747      3.9"
      ]
     },
     "execution_count": 5,
     "metadata": {},
     "output_type": "execute_result"
    }
   ],
   "source": [
    "# last 5 rows\n",
    "df.tail()"
   ]
  },
  {
   "cell_type": "markdown",
   "metadata": {},
   "source": [
    "## 6.Shape of dataset\n",
    "shape method returns a tuple of rows and column count."
   ]
  },
  {
   "cell_type": "code",
   "execution_count": 6,
   "metadata": {},
   "outputs": [
    {
     "name": "stdout",
     "output_type": "stream",
     "text": [
      "Dataset Shape:  (200, 6) \n",
      "Rows:  200  Columns:  6\n"
     ]
    }
   ],
   "source": [
    "print(\"Dataset Shape: \", df.shape, \"\\nRows: \",df.shape[0], \" Columns: \",df.shape[1])"
   ]
  },
  {
   "cell_type": "markdown",
   "metadata": {},
   "source": [
    "## 7. Basic Description of the Dataset:\n",
    "\n",
    "1. Total number of null values in each column\n",
    "\n",
    "2. Total Number of filled values in each column\n",
    "\n",
    "3. Information about each column"
   ]
  },
  {
   "cell_type": "code",
   "execution_count": 7,
   "metadata": {},
   "outputs": [
    {
     "data": {
      "text/plain": [
       "Song_Id            0\n",
       "Genre              0\n",
       "Listen_Counts      0\n",
       "Year               0\n",
       "No_of_Downloads    0\n",
       "Ratings            0\n",
       "dtype: int64"
      ]
     },
     "execution_count": 7,
     "metadata": {},
     "output_type": "execute_result"
    }
   ],
   "source": [
    "df.isnull().sum()"
   ]
  },
  {
   "cell_type": "code",
   "execution_count": 8,
   "metadata": {},
   "outputs": [
    {
     "name": "stdout",
     "output_type": "stream",
     "text": [
      "<class 'pandas.core.frame.DataFrame'>\n",
      "RangeIndex: 200 entries, 0 to 199\n",
      "Data columns (total 6 columns):\n",
      " #   Column           Non-Null Count  Dtype  \n",
      "---  ------           --------------  -----  \n",
      " 0   Song_Id          200 non-null    int64  \n",
      " 1   Genre            200 non-null    object \n",
      " 2   Listen_Counts    200 non-null    int64  \n",
      " 3   Year             200 non-null    int64  \n",
      " 4   No_of_Downloads  200 non-null    int64  \n",
      " 5   Ratings          200 non-null    float64\n",
      "dtypes: float64(1), int64(4), object(1)\n",
      "memory usage: 9.5+ KB\n"
     ]
    }
   ],
   "source": [
    "df.info()"
   ]
  },
  {
   "cell_type": "code",
   "execution_count": 9,
   "metadata": {},
   "outputs": [
    {
     "data": {
      "text/html": [
       "<div>\n",
       "<style scoped>\n",
       "    .dataframe tbody tr th:only-of-type {\n",
       "        vertical-align: middle;\n",
       "    }\n",
       "\n",
       "    .dataframe tbody tr th {\n",
       "        vertical-align: top;\n",
       "    }\n",
       "\n",
       "    .dataframe thead th {\n",
       "        text-align: right;\n",
       "    }\n",
       "</style>\n",
       "<table border=\"1\" class=\"dataframe\">\n",
       "  <thead>\n",
       "    <tr style=\"text-align: right;\">\n",
       "      <th></th>\n",
       "      <th>Song_Id</th>\n",
       "      <th>Listen_Counts</th>\n",
       "      <th>Year</th>\n",
       "      <th>No_of_Downloads</th>\n",
       "      <th>Ratings</th>\n",
       "    </tr>\n",
       "  </thead>\n",
       "  <tbody>\n",
       "    <tr>\n",
       "      <th>count</th>\n",
       "      <td>200.00</td>\n",
       "      <td>200.00</td>\n",
       "      <td>200.00</td>\n",
       "      <td>200.00</td>\n",
       "      <td>200.00</td>\n",
       "    </tr>\n",
       "    <tr>\n",
       "      <th>mean</th>\n",
       "      <td>100.50</td>\n",
       "      <td>1886.16</td>\n",
       "      <td>2016.94</td>\n",
       "      <td>3840.48</td>\n",
       "      <td>3.34</td>\n",
       "    </tr>\n",
       "    <tr>\n",
       "      <th>std</th>\n",
       "      <td>57.88</td>\n",
       "      <td>821.38</td>\n",
       "      <td>1.43</td>\n",
       "      <td>1681.42</td>\n",
       "      <td>1.14</td>\n",
       "    </tr>\n",
       "    <tr>\n",
       "      <th>min</th>\n",
       "      <td>1.00</td>\n",
       "      <td>370.00</td>\n",
       "      <td>2015.00</td>\n",
       "      <td>769.00</td>\n",
       "      <td>1.00</td>\n",
       "    </tr>\n",
       "    <tr>\n",
       "      <th>25%</th>\n",
       "      <td>50.75</td>\n",
       "      <td>1251.75</td>\n",
       "      <td>2016.00</td>\n",
       "      <td>2545.75</td>\n",
       "      <td>2.40</td>\n",
       "    </tr>\n",
       "    <tr>\n",
       "      <th>50%</th>\n",
       "      <td>100.50</td>\n",
       "      <td>1712.00</td>\n",
       "      <td>2017.00</td>\n",
       "      <td>3472.00</td>\n",
       "      <td>3.50</td>\n",
       "    </tr>\n",
       "    <tr>\n",
       "      <th>75%</th>\n",
       "      <td>150.25</td>\n",
       "      <td>2466.00</td>\n",
       "      <td>2018.00</td>\n",
       "      <td>5091.50</td>\n",
       "      <td>4.30</td>\n",
       "    </tr>\n",
       "    <tr>\n",
       "      <th>max</th>\n",
       "      <td>200.00</td>\n",
       "      <td>4294.00</td>\n",
       "      <td>2019.00</td>\n",
       "      <td>7976.00</td>\n",
       "      <td>5.00</td>\n",
       "    </tr>\n",
       "  </tbody>\n",
       "</table>\n",
       "</div>"
      ],
      "text/plain": [
       "       Song_Id  Listen_Counts     Year  No_of_Downloads  Ratings\n",
       "count   200.00         200.00   200.00           200.00   200.00\n",
       "mean    100.50        1886.16  2016.94          3840.48     3.34\n",
       "std      57.88         821.38     1.43          1681.42     1.14\n",
       "min       1.00         370.00  2015.00           769.00     1.00\n",
       "25%      50.75        1251.75  2016.00          2545.75     2.40\n",
       "50%     100.50        1712.00  2017.00          3472.00     3.50\n",
       "75%     150.25        2466.00  2018.00          5091.50     4.30\n",
       "max     200.00        4294.00  2019.00          7976.00     5.00"
      ]
     },
     "execution_count": 9,
     "metadata": {},
     "output_type": "execute_result"
    }
   ],
   "source": [
    "df.describe().round(decimals=2) #understanding the descriptive statistics overview, with 2point decimals"
   ]
  },
  {
   "cell_type": "code",
   "execution_count": 10,
   "metadata": {},
   "outputs": [
    {
     "data": {
      "text/plain": [
       "0"
      ]
     },
     "execution_count": 10,
     "metadata": {},
     "output_type": "execute_result"
    }
   ],
   "source": [
    "# Rows containing duplicate data\n",
    "duplicate_rows_df = df[df.duplicated()]\n",
    "# print(\"number of duplicate rows: \") \n",
    "duplicate_rows_df.shape[0]"
   ]
  },
  {
   "cell_type": "markdown",
   "metadata": {},
   "source": [
    "### Finding the relations between the variables\n",
    "\n",
    "Heat Maps is a type of plot which is necessary when we need to find the dependent variables. \n",
    "One of the best way to find the correlation between the attributes can be done using heat maps."
   ]
  },
  {
   "cell_type": "code",
   "execution_count": 12,
   "metadata": {},
   "outputs": [
    {
     "data": {
      "text/plain": [
       "<AxesSubplot:>"
      ]
     },
     "execution_count": 12,
     "metadata": {},
     "output_type": "execute_result"
    },
    {
     "data": {
      "image/png": "[encoded data removed]",
      "text/plain": [
       "<Figure size 1080x720 with 2 Axes>"
      ]
     },
     "metadata": {
      "needs_background": "light"
     },
     "output_type": "display_data"
    }
   ],
   "source": [
    "#creating a correlation heatmap from the dataframe\n",
    "plt.figure(figsize=(15,10))\n",
    "sns.heatmap(df.corr(), annot=True, cmap=\"BrBG\")"
   ]
  },
  {
   "cell_type": "markdown",
   "metadata": {},
   "source": [
    "### Box Plot\n",
    "\n",
    "A box plot is a method for graphically depicting groups of numerical data through their quartiles.\n",
    "If there is an outlier it will plotted as point in boxplot but other population will be grouped together and display as boxes."
   ]
  },
  {
   "cell_type": "code",
   "execution_count": 13,
   "metadata": {},
   "outputs": [
    {
     "data": {
      "text/plain": [
       "<AxesSubplot:xlabel='Listen_Counts'>"
      ]
     },
     "execution_count": 13,
     "metadata": {},
     "output_type": "execute_result"
    },
    {
     "data": {
      "image/png": "[encoded data removed]",
      "text/plain": [
       "<Figure size 432x288 with 1 Axes>"
      ]
     },
     "metadata": {
      "needs_background": "light"
     },
     "output_type": "display_data"
    }
   ],
   "source": [
    "sns.boxplot(x=df['Listen_Counts'])"
   ]
  },
  {
   "cell_type": "code",
   "execution_count": 14,
   "metadata": {},
   "outputs": [
    {
     "data": {
      "text/plain": [
       "<AxesSubplot:xlabel='No_of_Downloads'>"
      ]
     },
     "execution_count": 14,
     "metadata": {},
     "output_type": "execute_result"
    },
    {
     "data": {
      "image/png": "[encoded data removed]",
      "text/plain": [
       "<Figure size 432x288 with 1 Axes>"
      ]
     },
     "metadata": {
      "needs_background": "light"
     },
     "output_type": "display_data"
    }
   ],
   "source": [
    "sns.boxplot(x=df['No_of_Downloads'])"
   ]
  },
  {
   "cell_type": "markdown",
   "metadata": {},
   "source": [
    "### Distrubution Histogram of Ratings"
   ]
  },
  {
   "cell_type": "code",
   "execution_count": 15,
   "metadata": {},
   "outputs": [
    {
     "data": {
      "image/png": "[encoded data removed]",
      "text/plain": [
       "<Figure size 432x288 with 1 Axes>"
      ]
     },
     "metadata": {
      "needs_background": "light"
     },
     "output_type": "display_data"
    }
   ],
   "source": [
    "sns.distplot(df['Ratings'], label=\"rating\")\n",
    "plt.xlabel(\"Average Rating\")\n",
    "plt.ylabel(\"Density\")\n",
    "plt.title(\"Rating of Songs\")\n",
    "plt.legend()\n",
    "# plt.grid()\n",
    "plt.show()"
   ]
  },
  {
   "cell_type": "markdown",
   "metadata": {},
   "source": [
    "### Histogram of Year of Song Release"
   ]
  },
  {
   "cell_type": "code",
   "execution_count": 16,
   "metadata": {},
   "outputs": [
    {
     "data": {
      "image/png": "[encoded data removed]",
      "text/plain": [
       "<Figure size 432x288 with 1 Axes>"
      ]
     },
     "metadata": {
      "needs_background": "light"
     },
     "output_type": "display_data"
    }
   ],
   "source": [
    "plt.title('Histogram of Years', fontsize=18)\n",
    "mybins = [2015, 2016, 2017, 2018, 2019,2020]\n",
    "plt.hist(df['Year'], label=\"Number of Songs\", bins=mybins, edgecolor='black')\n",
    "plt.xlabel('Realeased Year' , fontsize=18)\n",
    "plt.ylabel('Songs', fontsize=18)\n",
    "plt.legend()\n",
    "plt.grid()\n",
    "plt.show()"
   ]
  },
  {
   "cell_type": "markdown",
   "metadata": {},
   "source": [
    "### Generating Pie Chart of Genre of Songs."
   ]
  },
  {
   "cell_type": "code",
   "execution_count": 17,
   "metadata": {},
   "outputs": [
    {
     "data": {
      "text/plain": [
       "<Figure size 720x576 with 0 Axes>"
      ]
     },
     "metadata": {},
     "output_type": "display_data"
    },
    {
     "data": {
      "image/png": "[encoded data removed]",
      "text/plain": [
       "<Figure size 432x288 with 1 Axes>"
      ]
     },
     "metadata": {},
     "output_type": "display_data"
    }
   ],
   "source": [
    "genre_groups_count = df.Genre.value_counts()\n",
    "\n",
    "# Pie chart\n",
    "labels = ['rock', 'hiphop', 'disco', 'folk', 'pop', 'jazz']\n",
    "\n",
    "#colors\n",
    "# colors = ['#ff9999','#66b3ff','#99ff99','#ffcc99']\n",
    "colors = ['#66b3ff','#ff9999','#ffcc99','#8d996f', '#e5dec1', '#99ff99']\n",
    "#explsion\n",
    "explode = (0.05,0.05,0.05,0.05,0.05,0.05)\n",
    "plt.figure(figsize=(10, 8))\n",
    "fig1, ax1 = plt.subplots()\n",
    "plt.pie(genre_groups_count, colors = colors, labels=labels, autopct='%1.1f%%', startangle=90, pctdistance=0.45, \n",
    "        explode = explode)\n",
    "#draw circle\n",
    "centre_circle = plt.Circle((0,0),0.70,fc='#fffff6')\n",
    "fig = plt.gcf()\n",
    "fig.gca().add_artist(centre_circle)\n",
    "# Equal aspect ratio ensures that pie is drawn as a circle\n",
    "ax1.axis('equal')  \n",
    "plt.tight_layout()\n",
    "plt.title(\"Genre\", fontsize=18)\n",
    "plt.show()"
   ]
  },
  {
   "cell_type": "markdown",
   "metadata": {},
   "source": [
    "### Dependencies:"
   ]
  },
  {
   "cell_type": "code",
   "execution_count": 20,
   "metadata": {},
   "outputs": [
    {
     "name": "stdout",
     "output_type": "stream",
     "text": [
      "CPython 3.6.12\n",
      "IPython 7.16.1\n",
      "\n",
      "pandas 1.1.4\n",
      "numpy 1.19.4\n",
      "matplotlib 3.3.2\n",
      "seaborn 0.11.0\n"
     ]
    }
   ],
   "source": [
    "%load_ext watermark\n",
    "%watermark -v -p pandas,numpy,matplotlib,seaborn"
   ]
  }
 ],
 "metadata": {
  "kernelspec": {
   "display_name": "Python 3",
   "language": "python",
   "name": "python3"
  },
  "language_info": {
   "codemirror_mode": {
    "name": "ipython",
    "version": 3
   },
   "file_extension": ".py",
   "mimetype": "text/x-python",
   "name": "python",
   "nbconvert_exporter": "python",
   "pygments_lexer": "ipython3",
   "version": "3.6.12"
  }
 },
 "nbformat": 4,
 "nbformat_minor": 4
}
